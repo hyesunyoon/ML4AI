{
  "nbformat": 4,
  "nbformat_minor": 0,
  "metadata": {
    "colab": {
      "provenance": [],
      "mount_file_id": "1I25N-5Nt3j-b0OZ0lNCf25jnfjC1RLiH",
      "authorship_tag": "ABX9TyO8G9bcBKGnSqXqwVABzghc",
      "include_colab_link": true
    },
    "kernelspec": {
      "name": "python3",
      "display_name": "Python 3"
    },
    "language_info": {
      "name": "python"
    }
  },
  "cells": [
    {
      "cell_type": "markdown",
      "metadata": {
        "id": "view-in-github",
        "colab_type": "text"
      },
      "source": [
        "<a href=\"https://colab.research.google.com/github/hyesunyoon/ML4AI/blob/main/week1/Untitled2.ipynb\" target=\"_parent\"><img src=\"https://colab.research.google.com/assets/colab-badge.svg\" alt=\"Open In Colab\"/></a>"
      ]
    },
    {
      "cell_type": "code",
      "execution_count": null,
      "metadata": {
        "colab": {
          "base_uri": "https://localhost:8080/"
        },
        "id": "1pQk29dZM_Ak",
        "outputId": "eaba7d6b-078f-40fe-fb44-e74e5e3b0045"
      },
      "outputs": [
        {
          "output_type": "execute_result",
          "data": {
            "text/plain": [
              "2"
            ]
          },
          "metadata": {},
          "execution_count": 1
        }
      ],
      "source": [
        "1+1"
      ]
    },
    {
      "cell_type": "markdown",
      "source": [
        "## title\n",
        "\n",
        "-list 1\n",
        "\n",
        "-list 2\n"
      ],
      "metadata": {
        "id": "yktKIImlO_I9"
      }
    },
    {
      "cell_type": "code",
      "source": [
        "ls"
      ],
      "metadata": {
        "colab": {
          "base_uri": "https://localhost:8080/"
        },
        "id": "MyxxLqkBPfbV",
        "outputId": "59359afa-6306-48c8-bfc6-c72773ea4181"
      },
      "execution_count": null,
      "outputs": [
        {
          "output_type": "stream",
          "name": "stdout",
          "text": [
            "\u001b[0m\u001b[01;34mdrive\u001b[0m/  \u001b[01;34msample_data\u001b[0m/\n"
          ]
        }
      ]
    },
    {
      "cell_type": "code",
      "source": [
        "cd drive/MyDrive"
      ],
      "metadata": {
        "colab": {
          "base_uri": "https://localhost:8080/"
        },
        "id": "CW_4FOPQRVMf",
        "outputId": "218f79f8-b59f-40bd-f00c-269ed9e56204"
      },
      "execution_count": null,
      "outputs": [
        {
          "output_type": "stream",
          "name": "stdout",
          "text": [
            "/content/drive/MyDrive\n"
          ]
        }
      ]
    },
    {
      "cell_type": "code",
      "source": [
        "!git clone https://github.com/stefmolin/Hands-On-Data-Analysis-with-Pandas-2nd-edition.git"
      ],
      "metadata": {
        "colab": {
          "base_uri": "https://localhost:8080/"
        },
        "id": "Slm12KjARgG1",
        "outputId": "616dc44a-cd29-46bf-8dbc-7b6f09f5625c"
      },
      "execution_count": null,
      "outputs": [
        {
          "output_type": "stream",
          "name": "stdout",
          "text": [
            "Cloning into 'Hands-On-Data-Analysis-with-Pandas-2nd-edition'...\n",
            "remote: Enumerating objects: 3415, done.\u001b[K\n",
            "remote: Counting objects: 100% (3415/3415), done.\u001b[K\n",
            "remote: Compressing objects: 100% (1233/1233), done.\u001b[K\n",
            "remote: Total 3415 (delta 2128), reused 3362 (delta 2119), pack-reused 0\u001b[K\n",
            "Receiving objects: 100% (3415/3415), 75.18 MiB | 12.83 MiB/s, done.\n",
            "Resolving deltas: 100% (2128/2128), done.\n",
            "Updating files: 100% (216/216), done.\n"
          ]
        }
      ]
    }
  ]
}